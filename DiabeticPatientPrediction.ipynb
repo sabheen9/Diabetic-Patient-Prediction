{
 "cells": [
  {
   "attachments": {},
   "cell_type": "markdown",
   "metadata": {},
   "source": [
    "## DIABETIC PATIENT PREDICTION"
   ]
  },
  {
   "attachments": {},
   "cell_type": "markdown",
   "metadata": {
    "tags": []
   },
   "source": [
    "Import the diabetes data\n",
    "check whether it has null values\n",
    "check how many rows and columns the dataset has\n",
    "check each column datatype\n",
    "generate statistics for each column\n",
    "check the data imbalanace\n",
    "explore each variable and identify the shape and outliers\n",
    "Create Scatterplot for each varaible to visualize relationship\n",
    "Generate Correlation for each variable\n",
    "Visualize the correlation\n",
    "Get an idea how the traget variable is different for each column of diabetic and non-diabetic patient\n",
    "create x and y variable for machine learning\n",
    "split the data in train and test\n",
    "Run the below mentioned model and find accuracy, classification report and confusion metric a. Logistic Regression b. Decision Tree c. RandomForest d. SVM e. XGBoost\n",
    "Find the variables that impact the most\n",
    "Test the model with external values"
   ]
  },
  {
   "cell_type": "code",
   "execution_count": 1,
   "metadata": {},
   "outputs": [
    {
     "name": "stderr",
     "output_type": "stream",
     "text": [
      "c:\\Users\\sabhe\\AppData\\Local\\Programs\\Python\\Python37-32\\lib\\importlib\\_bootstrap.py:219: RuntimeWarning: numpy.ufunc size changed, may indicate binary incompatibility. Expected 112 from C header, got 124 from PyObject\n",
      "  return f(*args, **kwds)\n"
     ]
    }
   ],
   "source": [
    "import pandas as pd\n",
    "import numpy as np\n",
    "import matplotlib.pyplot as plt\n",
    "import seaborn as sns"
   ]
  },
  {
   "cell_type": "code",
   "execution_count": null,
   "metadata": {},
   "outputs": [],
   "source": []
  }
 ],
 "metadata": {
  "kernelspec": {
   "display_name": "Python 3",
   "language": "python",
   "name": "python3"
  },
  "language_info": {
   "codemirror_mode": {
    "name": "ipython",
    "version": 3
   },
   "file_extension": ".py",
   "mimetype": "text/x-python",
   "name": "python",
   "nbconvert_exporter": "python",
   "pygments_lexer": "ipython3",
   "version": "3.7.4"
  },
  "orig_nbformat": 4,
  "vscode": {
   "interpreter": {
    "hash": "8dc49c6080e2775957647e73dd8ee9d01fca394a41a0d81dc02c260926c72372"
   }
  }
 },
 "nbformat": 4,
 "nbformat_minor": 2
}
